{
 "cells": [
  {
   "cell_type": "code",
   "execution_count": 1,
   "metadata": {},
   "outputs": [
    {
     "name": "stdout",
     "output_type": "stream",
     "text": [
      "[[5.4490304 7.081243 ]\n",
      " [5.4490304 7.081243 ]\n",
      " [5.4490304 7.081243 ]\n",
      " [5.4490304 7.081243 ]\n",
      " [5.4490304 7.081243 ]\n",
      " [5.4490304 7.081243 ]\n",
      " [5.4490304 7.081243 ]\n",
      " [5.4490304 7.081243 ]\n",
      " [5.4490304 7.081243 ]\n",
      " [5.4490304 7.081243 ]\n",
      " [5.4490304 7.081243 ]\n",
      " [5.4490304 7.081243 ]\n",
      " [5.4490304 7.081243 ]\n",
      " [5.4490304 7.081243 ]\n",
      " [5.4490304 7.081243 ]\n",
      " [5.4490304 7.081243 ]\n",
      " [5.4490304 7.081243 ]\n",
      " [5.4490304 7.081243 ]\n",
      " [5.4490304 7.081243 ]\n",
      " [5.4490304 7.081243 ]\n",
      " [5.4490304 7.081243 ]\n",
      " [5.4490304 7.081243 ]\n",
      " [5.4490304 7.081243 ]\n",
      " [5.4490304 7.081243 ]\n",
      " [5.4490304 7.081243 ]\n",
      " [5.4490304 7.081243 ]\n",
      " [5.4490304 7.081243 ]\n",
      " [5.4490304 7.081243 ]\n",
      " [5.4490304 7.081243 ]\n",
      " [5.4490304 7.081243 ]\n",
      " [5.4490304 7.081243 ]\n",
      " [5.4490304 7.081243 ]\n",
      " [5.4490304 7.081243 ]\n",
      " [5.4490304 7.081243 ]\n",
      " [5.4490304 7.081243 ]\n",
      " [5.4490304 7.081243 ]\n",
      " [5.4490304 7.081243 ]\n",
      " [5.4490304 7.081243 ]\n",
      " [5.4490304 7.081243 ]\n",
      " [5.4490304 7.081243 ]\n",
      " [5.4490304 7.081243 ]\n",
      " [5.4490304 7.081243 ]\n",
      " [5.4490304 7.081243 ]\n",
      " [5.4490304 7.081243 ]\n",
      " [5.4490304 7.081243 ]\n",
      " [5.4490304 7.081243 ]\n",
      " [5.4490304 7.081243 ]\n",
      " [5.4490304 7.081243 ]\n",
      " [5.4490304 7.081243 ]\n",
      " [5.4490304 7.081243 ]\n",
      " [2.746024  4.856712 ]\n",
      " [2.746024  4.856712 ]\n",
      " [2.746024  4.856712 ]\n",
      " [2.746024  4.856712 ]\n",
      " [2.746024  4.856712 ]\n",
      " [2.746024  4.856712 ]\n",
      " [2.746024  4.856712 ]\n",
      " [2.746024  4.856712 ]\n",
      " [2.746024  4.856712 ]\n",
      " [2.746024  4.856712 ]\n",
      " [2.746024  4.856712 ]\n",
      " [2.746024  4.856712 ]\n",
      " [2.746024  4.856712 ]\n",
      " [2.746024  4.856712 ]\n",
      " [2.746024  4.856712 ]\n",
      " [2.746024  4.856712 ]\n",
      " [2.746024  4.856712 ]\n",
      " [2.746024  4.856712 ]\n",
      " [2.746024  4.856712 ]\n",
      " [2.746024  4.856712 ]\n",
      " [2.746024  4.856712 ]\n",
      " [2.746024  4.856712 ]\n",
      " [2.746024  4.856712 ]\n",
      " [2.746024  4.856712 ]\n",
      " [2.746024  4.856712 ]\n",
      " [2.746024  4.856712 ]\n",
      " [2.746024  4.856712 ]\n",
      " [2.746024  4.856712 ]\n",
      " [2.746024  4.856712 ]\n",
      " [2.746024  4.856712 ]\n",
      " [2.746024  4.856712 ]\n",
      " [2.746024  4.856712 ]\n",
      " [2.746024  4.856712 ]\n",
      " [2.746024  4.856712 ]\n",
      " [2.746024  4.856712 ]\n",
      " [2.746024  4.856712 ]\n",
      " [2.746024  4.856712 ]\n",
      " [2.746024  4.856712 ]\n",
      " [2.746024  4.856712 ]\n",
      " [2.746024  4.856712 ]\n",
      " [2.746024  4.856712 ]\n",
      " [2.746024  4.856712 ]\n",
      " [2.746024  4.856712 ]\n",
      " [2.746024  4.856712 ]\n",
      " [2.746024  4.856712 ]\n",
      " [2.746024  4.856712 ]\n",
      " [2.746024  4.856712 ]\n",
      " [2.746024  4.856712 ]\n",
      " [2.746024  4.856712 ]\n",
      " [2.746024  4.856712 ]]\n"
     ]
    }
   ],
   "source": [
    "import numpy as np\n",
    "\n",
    "# Load the .np file\n",
    "data_swiss = np.load('/home/hepe00001/Desktop/neuro_explicit/generative_diffusion/RectifiedFlow/ImageGeneration/logs/1_rectified_flow/samples/iter_1000000/sample.np')\n",
    "data_single_point = np.load('/home/hepe00001/Desktop/neuro_explicit/generative_diffusion/RectifiedFlow/ImageGeneration/logs/1_rectified_flow/single_point/samples/iter_1000/sample.np')\n",
    "data_linear_line = np.load('/home/hepe00001/Desktop/neuro_explicit/generative_diffusion/RectifiedFlow/ImageGeneration/logs/1_rectified_flow/linear_line/samples/iter_10000/sample.np')\n",
    "\n",
    "# Check the loaded data\n",
    "print(data_single_point)"
   ]
  },
  {
   "cell_type": "code",
   "execution_count": 2,
   "metadata": {},
   "outputs": [
    {
     "data": {
      "image/png": "[encoded data removed]",
      "text/plain": [
       "<Figure size 640x480 with 1 Axes>"
      ]
     },
     "metadata": {},
     "output_type": "display_data"
    }
   ],
   "source": [
    "from matplotlib import pyplot as plt\n",
    "\n",
    "\n",
    "plt.scatter(data_single_point[:,0], data_single_point[:,1], marker='.')\n",
    "\n",
    "# Display the plot\n",
    "plt.show()\n",
    "\n",
    "# Close the plot to free up memory\n",
    "plt.close()"
   ]
  }
 ],
 "metadata": {
  "kernelspec": {
   "display_name": "rectflow",
   "language": "python",
   "name": "python3"
  },
  "language_info": {
   "codemirror_mode": {
    "name": "ipython",
    "version": 3
   },
   "file_extension": ".py",
   "mimetype": "text/x-python",
   "name": "python",
   "nbconvert_exporter": "python",
   "pygments_lexer": "ipython3",
   "version": "3.8.19"
  }
 },
 "nbformat": 4,
 "nbformat_minor": 2
}
